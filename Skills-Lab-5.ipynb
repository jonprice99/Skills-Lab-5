{
 "cells": [
  {
   "cell_type": "code",
   "execution_count": null,
   "id": "seasonal-regular",
   "metadata": {},
   "outputs": [],
   "source": [
    "#Get a name from the user\n",
    "entered_name = input(\"Please enter a name.\")\n",
    "\n",
    "#Since I don't like writing programs that do nothing with an input, I'm taking the entered name and printing it normally and in all caps\n",
    "cap_name = entered_name.upper()\n",
    "print(\"Here's the name you entered: \" + entered_name)\n",
    "print(\"And here it is in all caps: \" + cap_name)"
   ]
  }
 ],
 "metadata": {
  "kernelspec": {
   "display_name": "Python 3",
   "language": "python",
   "name": "python3"
  },
  "language_info": {
   "codemirror_mode": {
    "name": "ipython",
    "version": 3
   },
   "file_extension": ".py",
   "mimetype": "text/x-python",
   "name": "python",
   "nbconvert_exporter": "python",
   "pygments_lexer": "ipython3",
   "version": "3.8.5"
  }
 },
 "nbformat": 4,
 "nbformat_minor": 5
}
